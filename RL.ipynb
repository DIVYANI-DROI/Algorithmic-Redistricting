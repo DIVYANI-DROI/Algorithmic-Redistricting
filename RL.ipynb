{
  "nbformat": 4,
  "nbformat_minor": 0,
  "metadata": {
    "colab": {
      "name": "RL",
      "provenance": [],
      "collapsed_sections": [],
      "authorship_tag": "ABX9TyP7JEiBuvDVFKz1pBiXzNWM"
    },
    "kernelspec": {
      "name": "python3",
      "display_name": "Python 3"
    }
  },
  "cells": [
    {
      "cell_type": "code",
      "metadata": {
        "id": "6b45NARH-a0Y"
      },
      "source": [
        "import torch as T\r\n",
        "import torch.nn as nn\r\n",
        "import torch.nn.functional as F\r\n",
        "import torch.optim as optim\r\n",
        "import numpy as np"
      ],
      "execution_count": 1,
      "outputs": []
    },
    {
      "cell_type": "code",
      "metadata": {
        "id": "R0COYm9y-gY9"
      },
      "source": [
        "class DeepQN(nn.Module):\r\n",
        "    def __init__(self, lr, input_dims, fc1_dims, fc2_dims, n_actions):\r\n",
        "\r\n",
        "        super(DeepQN, self).__init__()\r\n",
        "        self.input_dims = input_dims\r\n",
        "        self.fc1_dims = fc1_dims\r\n",
        "        self.fc2_dims = fc2_dims\r\n",
        "        self.n_actions = n_actions\r\n",
        "        self.fc1 = nn.Linear(*self.input_dims, self.fc1_dims)\r\n",
        "        self.fc2 = nn.Linear(self.fc1_dims, self.fc2_dims)\r\n",
        "        self.fc3 = nn.Linear(self.fc2_dims, self.n_actions)\r\n",
        "\r\n",
        "        self.optimizer = optim.Adam(self.parameters(), lr=lr)\r\n",
        "        self.loss = nn.MSELoss()\r\n",
        "        self.device = T.device('cuda' if T.cuda.is_available() else 'cpu')\r\n",
        "        self.to(self.device)\r\n",
        "\r\n",
        "    def forward(self, state):\r\n",
        "        x = F.relu(self.fc1(state))\r\n",
        "        x = F.relu(self.fc2(x))\r\n",
        "        actions = self.fc3(x)\r\n",
        "\r\n",
        "        return actions"
      ],
      "execution_count": 2,
      "outputs": []
    },
    {
      "cell_type": "code",
      "metadata": {
        "id": "PE1dOxM5-qzx"
      },
      "source": [
        ""
      ],
      "execution_count": null,
      "outputs": []
    }
  ]
}